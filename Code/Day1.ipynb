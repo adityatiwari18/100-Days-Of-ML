{
 "cells": [
  {
   "cell_type": "code",
   "execution_count": 2,
   "metadata": {},
   "outputs": [],
   "source": [
    "import pandas as pd\n",
    "import numpy as np"
   ]
  },
  {
   "cell_type": "code",
   "execution_count": 22,
   "metadata": {},
   "outputs": [],
   "source": [
    "df = pd.read_csv('/home/aditya/Documents/100DayofMLcode/Datasets/Day1.csv')"
   ]
  },
  {
   "cell_type": "code",
   "execution_count": 23,
   "metadata": {},
   "outputs": [
    {
     "data": {
      "text/html": [
       "<div>\n",
       "<style scoped>\n",
       "    .dataframe tbody tr th:only-of-type {\n",
       "        vertical-align: middle;\n",
       "    }\n",
       "\n",
       "    .dataframe tbody tr th {\n",
       "        vertical-align: top;\n",
       "    }\n",
       "\n",
       "    .dataframe thead th {\n",
       "        text-align: right;\n",
       "    }\n",
       "</style>\n",
       "<table border=\"1\" class=\"dataframe\">\n",
       "  <thead>\n",
       "    <tr style=\"text-align: right;\">\n",
       "      <th></th>\n",
       "      <th>Name</th>\n",
       "      <th>Sex</th>\n",
       "      <th>Age</th>\n",
       "      <th>Height (in)</th>\n",
       "      <th>Weight (lbs)</th>\n",
       "    </tr>\n",
       "  </thead>\n",
       "  <tbody>\n",
       "    <tr>\n",
       "      <td>0</td>\n",
       "      <td>Alex</td>\n",
       "      <td>M</td>\n",
       "      <td>41.0</td>\n",
       "      <td>NaN</td>\n",
       "      <td>170.0</td>\n",
       "    </tr>\n",
       "    <tr>\n",
       "      <td>1</td>\n",
       "      <td>Bert</td>\n",
       "      <td>M</td>\n",
       "      <td>42.0</td>\n",
       "      <td>68.0</td>\n",
       "      <td>166.0</td>\n",
       "    </tr>\n",
       "    <tr>\n",
       "      <td>2</td>\n",
       "      <td>Carl</td>\n",
       "      <td>M</td>\n",
       "      <td>32.0</td>\n",
       "      <td>70.0</td>\n",
       "      <td>155.0</td>\n",
       "    </tr>\n",
       "    <tr>\n",
       "      <td>3</td>\n",
       "      <td>Dave</td>\n",
       "      <td>M</td>\n",
       "      <td>39.0</td>\n",
       "      <td>72.0</td>\n",
       "      <td>167.0</td>\n",
       "    </tr>\n",
       "    <tr>\n",
       "      <td>4</td>\n",
       "      <td>Elly</td>\n",
       "      <td>F</td>\n",
       "      <td>30.0</td>\n",
       "      <td>66.0</td>\n",
       "      <td>124.0</td>\n",
       "    </tr>\n",
       "    <tr>\n",
       "      <td>5</td>\n",
       "      <td>Fran</td>\n",
       "      <td>F</td>\n",
       "      <td>33.0</td>\n",
       "      <td>66.0</td>\n",
       "      <td>115.0</td>\n",
       "    </tr>\n",
       "    <tr>\n",
       "      <td>6</td>\n",
       "      <td>Gwen</td>\n",
       "      <td>F</td>\n",
       "      <td>26.0</td>\n",
       "      <td>64.0</td>\n",
       "      <td>121.0</td>\n",
       "    </tr>\n",
       "    <tr>\n",
       "      <td>7</td>\n",
       "      <td>Hank</td>\n",
       "      <td>M</td>\n",
       "      <td>30.0</td>\n",
       "      <td>71.0</td>\n",
       "      <td>NaN</td>\n",
       "    </tr>\n",
       "    <tr>\n",
       "      <td>8</td>\n",
       "      <td>Ivan</td>\n",
       "      <td>M</td>\n",
       "      <td>53.0</td>\n",
       "      <td>72.0</td>\n",
       "      <td>175.0</td>\n",
       "    </tr>\n",
       "    <tr>\n",
       "      <td>9</td>\n",
       "      <td>Jake</td>\n",
       "      <td>M</td>\n",
       "      <td>32.0</td>\n",
       "      <td>69.0</td>\n",
       "      <td>143.0</td>\n",
       "    </tr>\n",
       "    <tr>\n",
       "      <td>10</td>\n",
       "      <td>Kate</td>\n",
       "      <td>F</td>\n",
       "      <td>47.0</td>\n",
       "      <td>69.0</td>\n",
       "      <td>139.0</td>\n",
       "    </tr>\n",
       "    <tr>\n",
       "      <td>11</td>\n",
       "      <td>Luke</td>\n",
       "      <td>M</td>\n",
       "      <td>34.0</td>\n",
       "      <td>72.0</td>\n",
       "      <td>163.0</td>\n",
       "    </tr>\n",
       "    <tr>\n",
       "      <td>12</td>\n",
       "      <td>Myra</td>\n",
       "      <td>F</td>\n",
       "      <td>23.0</td>\n",
       "      <td>62.0</td>\n",
       "      <td>98.0</td>\n",
       "    </tr>\n",
       "    <tr>\n",
       "      <td>13</td>\n",
       "      <td>Neil</td>\n",
       "      <td>M</td>\n",
       "      <td>36.0</td>\n",
       "      <td>75.0</td>\n",
       "      <td>160.0</td>\n",
       "    </tr>\n",
       "    <tr>\n",
       "      <td>14</td>\n",
       "      <td>Omar</td>\n",
       "      <td>M</td>\n",
       "      <td>NaN</td>\n",
       "      <td>70.0</td>\n",
       "      <td>145.0</td>\n",
       "    </tr>\n",
       "    <tr>\n",
       "      <td>15</td>\n",
       "      <td>Page</td>\n",
       "      <td>F</td>\n",
       "      <td>31.0</td>\n",
       "      <td>67.0</td>\n",
       "      <td>135.0</td>\n",
       "    </tr>\n",
       "    <tr>\n",
       "      <td>16</td>\n",
       "      <td>Quin</td>\n",
       "      <td>M</td>\n",
       "      <td>29.0</td>\n",
       "      <td>71.0</td>\n",
       "      <td>176.0</td>\n",
       "    </tr>\n",
       "    <tr>\n",
       "      <td>17</td>\n",
       "      <td>Ruth</td>\n",
       "      <td>F</td>\n",
       "      <td>28.0</td>\n",
       "      <td>65.0</td>\n",
       "      <td>131.0</td>\n",
       "    </tr>\n",
       "  </tbody>\n",
       "</table>\n",
       "</div>"
      ],
      "text/plain": [
       "    Name Sex   Age  Height (in)  Weight (lbs)\n",
       "0   Alex   M  41.0          NaN         170.0\n",
       "1   Bert   M  42.0         68.0         166.0\n",
       "2   Carl   M  32.0         70.0         155.0\n",
       "3   Dave   M  39.0         72.0         167.0\n",
       "4   Elly   F  30.0         66.0         124.0\n",
       "5   Fran   F  33.0         66.0         115.0\n",
       "6   Gwen   F  26.0         64.0         121.0\n",
       "7   Hank   M  30.0         71.0           NaN\n",
       "8   Ivan   M  53.0         72.0         175.0\n",
       "9   Jake   M  32.0         69.0         143.0\n",
       "10  Kate   F  47.0         69.0         139.0\n",
       "11  Luke   M  34.0         72.0         163.0\n",
       "12  Myra   F  23.0         62.0          98.0\n",
       "13  Neil   M  36.0         75.0         160.0\n",
       "14  Omar   M   NaN         70.0         145.0\n",
       "15  Page   F  31.0         67.0         135.0\n",
       "16  Quin   M  29.0         71.0         176.0\n",
       "17  Ruth   F  28.0         65.0         131.0"
      ]
     },
     "execution_count": 23,
     "metadata": {},
     "output_type": "execute_result"
    }
   ],
   "source": [
    "df"
   ]
  },
  {
   "cell_type": "code",
   "execution_count": 30,
   "metadata": {},
   "outputs": [],
   "source": [
    "Y = df['Sex'].values\n",
    "X = df.drop(['Sex'], axis=1).values"
   ]
  },
  {
   "cell_type": "code",
   "execution_count": 31,
   "metadata": {},
   "outputs": [
    {
     "name": "stdout",
     "output_type": "stream",
     "text": [
      "[['Alex' 41.0 nan 170.0]\n",
      " ['Bert' 42.0 68.0 166.0]\n",
      " ['Carl' 32.0 70.0 155.0]\n",
      " ['Dave' 39.0 72.0 167.0]\n",
      " ['Elly' 30.0 66.0 124.0]\n",
      " ['Fran' 33.0 66.0 115.0]\n",
      " ['Gwen' 26.0 64.0 121.0]\n",
      " ['Hank' 30.0 71.0 nan]\n",
      " ['Ivan' 53.0 72.0 175.0]\n",
      " ['Jake' 32.0 69.0 143.0]\n",
      " ['Kate' 47.0 69.0 139.0]\n",
      " ['Luke' 34.0 72.0 163.0]\n",
      " ['Myra' 23.0 62.0 98.0]\n",
      " ['Neil' 36.0 75.0 160.0]\n",
      " ['Omar' nan 70.0 145.0]\n",
      " ['Page' 31.0 67.0 135.0]\n",
      " ['Quin' 29.0 71.0 176.0]\n",
      " ['Ruth' 28.0 65.0 131.0]]\n",
      "['M' 'M' 'M' 'M' 'F' 'F' 'F' 'M' 'M' 'M' 'F' 'M' 'F' 'M' 'M' 'F' 'M' 'F']\n"
     ]
    }
   ],
   "source": [
    "print(X)\n",
    "print(Y)"
   ]
  },
  {
   "cell_type": "code",
   "execution_count": 34,
   "metadata": {},
   "outputs": [],
   "source": [
    "from sklearn.impute import SimpleImputer as imputer\n",
    "Imputer = imputer(missing_values = np.nan, strategy = \"mean\", verbose = 0)\n",
    "Imputer = Imputer.fit(X[ : , 1:4])\n",
    "X[ : , 1:4] = Imputer.transform(X[ : , 1:4])"
   ]
  },
  {
   "cell_type": "code",
   "execution_count": 35,
   "metadata": {},
   "outputs": [
    {
     "data": {
      "text/plain": [
       "array([['Alex', 41.0, 68.76470588235294, 170.0],\n",
       "       ['Bert', 42.0, 68.0, 166.0],\n",
       "       ['Carl', 32.0, 70.0, 155.0],\n",
       "       ['Dave', 39.0, 72.0, 167.0],\n",
       "       ['Elly', 30.0, 66.0, 124.0],\n",
       "       ['Fran', 33.0, 66.0, 115.0],\n",
       "       ['Gwen', 26.0, 64.0, 121.0],\n",
       "       ['Hank', 30.0, 71.0, 146.05882352941177],\n",
       "       ['Ivan', 53.0, 72.0, 175.0],\n",
       "       ['Jake', 32.0, 69.0, 143.0],\n",
       "       ['Kate', 47.0, 69.0, 139.0],\n",
       "       ['Luke', 34.0, 72.0, 163.0],\n",
       "       ['Myra', 23.0, 62.0, 98.0],\n",
       "       ['Neil', 36.0, 75.0, 160.0],\n",
       "       ['Omar', 34.470588235294116, 70.0, 145.0],\n",
       "       ['Page', 31.0, 67.0, 135.0],\n",
       "       ['Quin', 29.0, 71.0, 176.0],\n",
       "       ['Ruth', 28.0, 65.0, 131.0]], dtype=object)"
      ]
     },
     "execution_count": 35,
     "metadata": {},
     "output_type": "execute_result"
    }
   ],
   "source": [
    "X"
   ]
  },
  {
   "cell_type": "code",
   "execution_count": 36,
   "metadata": {},
   "outputs": [],
   "source": [
    "from sklearn.preprocessing import LabelEncoder\n",
    "labelencoder_X = LabelEncoder()\n",
    "X[ : , 0] = labelencoder_X.fit_transform(X[ : , 0])"
   ]
  },
  {
   "cell_type": "code",
   "execution_count": 37,
   "metadata": {},
   "outputs": [],
   "source": [
    "labelencoder_Y = LabelEncoder()\n",
    "Y =  labelencoder_Y.fit_transform(Y)"
   ]
  },
  {
   "cell_type": "code",
   "execution_count": 38,
   "metadata": {},
   "outputs": [
    {
     "data": {
      "text/plain": [
       "array([[0, 41.0, 68.76470588235294, 170.0],\n",
       "       [1, 42.0, 68.0, 166.0],\n",
       "       [2, 32.0, 70.0, 155.0],\n",
       "       [3, 39.0, 72.0, 167.0],\n",
       "       [4, 30.0, 66.0, 124.0],\n",
       "       [5, 33.0, 66.0, 115.0],\n",
       "       [6, 26.0, 64.0, 121.0],\n",
       "       [7, 30.0, 71.0, 146.05882352941177],\n",
       "       [8, 53.0, 72.0, 175.0],\n",
       "       [9, 32.0, 69.0, 143.0],\n",
       "       [10, 47.0, 69.0, 139.0],\n",
       "       [11, 34.0, 72.0, 163.0],\n",
       "       [12, 23.0, 62.0, 98.0],\n",
       "       [13, 36.0, 75.0, 160.0],\n",
       "       [14, 34.470588235294116, 70.0, 145.0],\n",
       "       [15, 31.0, 67.0, 135.0],\n",
       "       [16, 29.0, 71.0, 176.0],\n",
       "       [17, 28.0, 65.0, 131.0]], dtype=object)"
      ]
     },
     "execution_count": 38,
     "metadata": {},
     "output_type": "execute_result"
    }
   ],
   "source": [
    "X"
   ]
  },
  {
   "cell_type": "code",
   "execution_count": 39,
   "metadata": {},
   "outputs": [
    {
     "data": {
      "text/plain": [
       "array([1, 1, 1, 1, 0, 0, 0, 1, 1, 1, 0, 1, 0, 1, 1, 0, 1, 0])"
      ]
     },
     "execution_count": 39,
     "metadata": {},
     "output_type": "execute_result"
    }
   ],
   "source": [
    "Y"
   ]
  },
  {
   "cell_type": "code",
   "execution_count": 40,
   "metadata": {},
   "outputs": [],
   "source": [
    "from sklearn.model_selection import train_test_split\n",
    "X_train, X_test, Y_train, Y_test = train_test_split( X , Y , test_size = 0.2, random_state = 0)"
   ]
  },
  {
   "cell_type": "code",
   "execution_count": 41,
   "metadata": {},
   "outputs": [],
   "source": [
    "from sklearn.preprocessing import StandardScaler\n",
    "sc_X = StandardScaler()\n",
    "X_train = sc_X.fit_transform(X_train)\n",
    "X_test = sc_X.fit_transform(X_test)"
   ]
  },
  {
   "cell_type": "code",
   "execution_count": 42,
   "metadata": {},
   "outputs": [
    {
     "data": {
      "text/plain": [
       "array([[ 0.89350016,  0.48925128,  0.33141754,  0.00640064],\n",
       "       [-0.946059  , -0.52747403, -0.88676586, -0.96300496],\n",
       "       [-1.31397083, -0.07262324,  0.33141754,  0.46802235],\n",
       "       [ 1.26141199, -0.75489943,  0.63596339,  1.43742794],\n",
       "       [ 1.44536791, -0.98232483, -1.19131171, -0.63986976],\n",
       "       [-0.02627942, -0.07262324,  0.02687169, -0.08592371],\n",
       "       [-0.39419125, -0.52747403,  0.63596339,  0.05527823],\n",
       "       [ 0.70954425,  0.83707836,  1.85414679,  0.6988332 ],\n",
       "       [ 0.34163242,  0.38222756,  0.94050924,  0.83731972],\n",
       "       [-1.13001491,  1.51935455,  0.94050924,  1.0219684 ],\n",
       "       [-1.68188266,  1.97420535, -0.04478615,  1.16045491],\n",
       "       [-0.76210308,  0.15480216, -0.88676586, -1.3784645 ],\n",
       "       [ 1.07745608, -0.30004863, -0.58222001, -0.45522107],\n",
       "       [ 0.52558833, -2.11945182, -2.10494926, -2.1632214 ]])"
      ]
     },
     "execution_count": 42,
     "metadata": {},
     "output_type": "execute_result"
    }
   ],
   "source": [
    "X_train"
   ]
  },
  {
   "cell_type": "code",
   "execution_count": 43,
   "metadata": {},
   "outputs": [
    {
     "data": {
      "text/plain": [
       "array([[-1.56961369,  0.        , -0.08737041,  0.73379939],\n",
       "       [-0.07474351, -1.59601494, -1.4852969 , -1.36277029],\n",
       "       [ 0.52320456,  1.09726027,  1.31055608,  1.15311332],\n",
       "       [ 1.12115264,  0.49875467,  0.26211122, -0.52414242]])"
      ]
     },
     "execution_count": 43,
     "metadata": {},
     "output_type": "execute_result"
    }
   ],
   "source": [
    "X_test"
   ]
  },
  {
   "cell_type": "code",
   "execution_count": null,
   "metadata": {},
   "outputs": [],
   "source": []
  }
 ],
 "metadata": {
  "kernelspec": {
   "display_name": "Python 3",
   "language": "python",
   "name": "python3"
  },
  "language_info": {
   "codemirror_mode": {
    "name": "ipython",
    "version": 3
   },
   "file_extension": ".py",
   "mimetype": "text/x-python",
   "name": "python",
   "nbconvert_exporter": "python",
   "pygments_lexer": "ipython3",
   "version": "3.7.4"
  }
 },
 "nbformat": 4,
 "nbformat_minor": 2
}
