{
 "cells": [
  {
   "cell_type": "markdown",
   "metadata": {},
   "source": [
    "Importing necessary Libraries"
   ]
  },
  {
   "cell_type": "code",
   "execution_count": 61,
   "metadata": {},
   "outputs": [],
   "source": [
    "import numpy as np\n",
    "import pandas as pd\n",
    "import matplotlib.pyplot as plt\n",
    "from sklearn.preprocessing import LabelEncoder, StandardScaler\n",
    "from sklearn.model_selection import train_test_split\n",
    "from sklearn.linear_model import LinearRegression"
   ]
  },
  {
   "cell_type": "code",
   "execution_count": 62,
   "metadata": {},
   "outputs": [],
   "source": [
    "df = pd.read_csv('/home/aditya/Documents/100DayofMLcode/Datasets/Day3.csv')"
   ]
  },
  {
   "cell_type": "code",
   "execution_count": 63,
   "metadata": {},
   "outputs": [
    {
     "data": {
      "text/html": [
       "<div>\n",
       "<style scoped>\n",
       "    .dataframe tbody tr th:only-of-type {\n",
       "        vertical-align: middle;\n",
       "    }\n",
       "\n",
       "    .dataframe tbody tr th {\n",
       "        vertical-align: top;\n",
       "    }\n",
       "\n",
       "    .dataframe thead th {\n",
       "        text-align: right;\n",
       "    }\n",
       "</style>\n",
       "<table border=\"1\" class=\"dataframe\">\n",
       "  <thead>\n",
       "    <tr style=\"text-align: right;\">\n",
       "      <th></th>\n",
       "      <th>Sex</th>\n",
       "      <th>Weight (lbs, Sep)</th>\n",
       "      <th>Weight (lbs, Apr)</th>\n",
       "      <th>BMI (Sep)</th>\n",
       "      <th>BMI (Apr)</th>\n",
       "    </tr>\n",
       "  </thead>\n",
       "  <tbody>\n",
       "    <tr>\n",
       "      <td>0</td>\n",
       "      <td>M</td>\n",
       "      <td>159</td>\n",
       "      <td>130</td>\n",
       "      <td>22.02</td>\n",
       "      <td>18.14</td>\n",
       "    </tr>\n",
       "    <tr>\n",
       "      <td>1</td>\n",
       "      <td>M</td>\n",
       "      <td>214</td>\n",
       "      <td>190</td>\n",
       "      <td>19.70</td>\n",
       "      <td>17.44</td>\n",
       "    </tr>\n",
       "    <tr>\n",
       "      <td>2</td>\n",
       "      <td>M</td>\n",
       "      <td>163</td>\n",
       "      <td>152</td>\n",
       "      <td>24.09</td>\n",
       "      <td>22.43</td>\n",
       "    </tr>\n",
       "    <tr>\n",
       "      <td>3</td>\n",
       "      <td>M</td>\n",
       "      <td>205</td>\n",
       "      <td>194</td>\n",
       "      <td>26.97</td>\n",
       "      <td>25.57</td>\n",
       "    </tr>\n",
       "    <tr>\n",
       "      <td>4</td>\n",
       "      <td>F</td>\n",
       "      <td>150</td>\n",
       "      <td>141</td>\n",
       "      <td>21.51</td>\n",
       "      <td>20.10</td>\n",
       "    </tr>\n",
       "    <tr>\n",
       "      <td>...</td>\n",
       "      <td>...</td>\n",
       "      <td>...</td>\n",
       "      <td>...</td>\n",
       "      <td>...</td>\n",
       "      <td>...</td>\n",
       "    </tr>\n",
       "    <tr>\n",
       "      <td>62</td>\n",
       "      <td>M</td>\n",
       "      <td>143</td>\n",
       "      <td>156</td>\n",
       "      <td>22.51</td>\n",
       "      <td>24.45</td>\n",
       "    </tr>\n",
       "    <tr>\n",
       "      <td>63</td>\n",
       "      <td>M</td>\n",
       "      <td>165</td>\n",
       "      <td>181</td>\n",
       "      <td>23.69</td>\n",
       "      <td>25.80</td>\n",
       "    </tr>\n",
       "    <tr>\n",
       "      <td>64</td>\n",
       "      <td>F</td>\n",
       "      <td>93</td>\n",
       "      <td>108</td>\n",
       "      <td>15.08</td>\n",
       "      <td>17.74</td>\n",
       "    </tr>\n",
       "    <tr>\n",
       "      <td>65</td>\n",
       "      <td>M</td>\n",
       "      <td>163</td>\n",
       "      <td>181</td>\n",
       "      <td>22.64</td>\n",
       "      <td>25.33</td>\n",
       "    </tr>\n",
       "    <tr>\n",
       "      <td>66</td>\n",
       "      <td>M</td>\n",
       "      <td>207</td>\n",
       "      <td>231</td>\n",
       "      <td>36.57</td>\n",
       "      <td>40.86</td>\n",
       "    </tr>\n",
       "  </tbody>\n",
       "</table>\n",
       "<p>67 rows × 5 columns</p>\n",
       "</div>"
      ],
      "text/plain": [
       "   Sex  Weight (lbs, Sep)  Weight (lbs, Apr)  BMI (Sep)  BMI (Apr)\n",
       "0    M                159                130      22.02      18.14\n",
       "1    M                214                190      19.70      17.44\n",
       "2    M                163                152      24.09      22.43\n",
       "3    M                205                194      26.97      25.57\n",
       "4    F                150                141      21.51      20.10\n",
       "..  ..                ...                ...        ...        ...\n",
       "62   M                143                156      22.51      24.45\n",
       "63   M                165                181      23.69      25.80\n",
       "64   F                 93                108      15.08      17.74\n",
       "65   M                163                181      22.64      25.33\n",
       "66   M                207                231      36.57      40.86\n",
       "\n",
       "[67 rows x 5 columns]"
      ]
     },
     "execution_count": 63,
     "metadata": {},
     "output_type": "execute_result"
    }
   ],
   "source": [
    "df"
   ]
  },
  {
   "cell_type": "code",
   "execution_count": 64,
   "metadata": {},
   "outputs": [],
   "source": [
    "Y = df['Sex'].values"
   ]
  },
  {
   "cell_type": "code",
   "execution_count": 65,
   "metadata": {},
   "outputs": [],
   "source": [
    "X = df.iloc[:,1:].values"
   ]
  },
  {
   "cell_type": "markdown",
   "metadata": {},
   "source": [
    "Label Encoding"
   ]
  },
  {
   "cell_type": "code",
   "execution_count": 66,
   "metadata": {},
   "outputs": [],
   "source": [
    "label = LabelEncoder()"
   ]
  },
  {
   "cell_type": "code",
   "execution_count": 67,
   "metadata": {},
   "outputs": [],
   "source": [
    "Y = label.fit_transform(Y)"
   ]
  },
  {
   "cell_type": "code",
   "execution_count": 68,
   "metadata": {},
   "outputs": [
    {
     "name": "stdout",
     "output_type": "stream",
     "text": [
      "[1 1 1 1 0 1 0 0 0 0 0 1 1 0 0 0 0 1 0 1 0 0 1 0 1 1 1 0 1 0 0 1 1 0 1 1 0\n",
      " 0 0 0 1 1 1 0 0 0 0 0 0 0 1 1 1 1 0 0 0 1 1 0 1 0 1 1 0 1 1]\n"
     ]
    }
   ],
   "source": [
    "print(Y)"
   ]
  },
  {
   "cell_type": "code",
   "execution_count": 69,
   "metadata": {},
   "outputs": [],
   "source": [
    "X_train, X_test, Y_train, Y_test = train_test_split( X , Y , test_size = 0.2, random_state = 0)"
   ]
  },
  {
   "cell_type": "markdown",
   "metadata": {},
   "source": [
    "Normalization"
   ]
  },
  {
   "cell_type": "code",
   "execution_count": 70,
   "metadata": {},
   "outputs": [],
   "source": [
    "SX = StandardScaler()\n",
    "X_train = SX.fit_transform(X_train)\n",
    "X_test = SX.fit_transform(X_test)"
   ]
  },
  {
   "cell_type": "code",
   "execution_count": 71,
   "metadata": {},
   "outputs": [
    {
     "name": "stdout",
     "output_type": "stream",
     "text": [
      "[[ 2.09578581e-01 -2.04719611e-01 -1.66063101e-01 -6.22524031e-01]\n",
      " [-2.04605530e-01 -5.45446714e-02 -5.50972466e-02  9.40370145e-02]\n",
      " [-1.29299328e-01  1.33174003e-01 -1.04210932e+00 -6.94446515e-01]\n",
      " [ 6.99068895e-01  2.08261473e-01  5.87336649e-01 -1.85963097e-03]\n",
      " [ 4.35497188e-01  2.08261473e-01  7.27504045e-01  3.76399359e-01]\n",
      " [-8.82361349e-01 -5.42613225e-01 -1.28101098e-01  3.65744177e-01]\n",
      " [-1.29654546e+00 -1.59383780e+00 -1.29908288e+00 -1.47760245e+00]\n",
      " [ 2.09578581e-01  2.08261473e-01  1.98956158e-01  2.00588843e-01]\n",
      " [ 6.99068895e-01  1.29702978e+00  1.63914309e-01  7.70641124e-01]\n",
      " [-8.82361349e-01 -6.92788165e-01 -1.42150896e-02  2.61856144e-01]\n",
      " [ 1.18855921e+00  1.29702978e+00  1.79066052e-02  3.54335089e-02]\n",
      " [-8.07055147e-01 -1.10576925e+00 -2.47827415e-01 -5.87894687e-01]\n",
      " [ 3.60190986e-01  1.33174003e-01  1.52470611e+00  1.14357252e+00]\n",
      " [ 3.60190986e-01  3.58436412e-01 -3.26671575e-01 -2.97540954e-01]\n",
      " [-8.07055147e-01 -7.67875634e-01 -6.71249756e-01 -5.87894687e-01]\n",
      " [-2.04605530e-01 -2.04719611e-01 -8.72189414e-02 -5.77993408e-02]\n",
      " [ 2.13130761e-02  3.58436412e-01 -1.98184796e-01  1.41985337e-01]\n",
      " [ 2.35580534e+00  3.17421653e+00  4.23168893e+00  4.90751586e+00]\n",
      " [-5.43483440e-01 -3.54894551e-01 -7.12131913e-01 -4.81342858e-01]\n",
      " [-6.94095844e-01 -6.92788165e-01 -4.05515735e-01 -4.38722127e-01]\n",
      " [ 5.48456491e-01 -6.17700695e-01 -1.71352437e-02 -1.14462799e+00]\n",
      " [-3.92871035e-01 -5.42613225e-01  3.56644478e-01  1.18011176e-01]\n",
      " [-5.43483440e-01 -9.55594309e-01 -9.89546550e-01 -1.34174887e+00]\n",
      " [-1.03297375e+00 -1.18085672e+00 -7.58854378e-01 -8.51610461e-01]\n",
      " [-6.18789642e-01 -6.92788165e-01 -2.88709572e-01 -3.18851320e-01]\n",
      " [-5.39931260e-02  3.58436412e-01  1.25952306e-01  5.36227102e-01]\n",
      " [ 3.60190986e-01  1.33174003e-01  2.38907171e+00  1.81218525e+00]\n",
      " [-8.07055147e-01 -9.55594309e-01 -3.23751421e-01 -5.53265342e-01]\n",
      " [ 1.30151851e+00  1.29702978e+00  1.29693409e+00  1.15689150e+00]\n",
      " [-2.04605530e-01 -1.29632141e-01  5.23093260e-01  5.94830607e-01]\n",
      " [ 2.20519294e+00  2.12299195e+00  7.77146664e-01  6.00158199e-01]\n",
      " [ 6.99068895e-01  9.59136171e-01 -5.16481590e-01 -2.86885772e-01]\n",
      " [-6.94095844e-01 -4.67525755e-01  4.06287097e-01  7.12037619e-01]\n",
      " [ 4.35497188e-01  8.84048701e-01  5.29484540e-02  3.81726951e-01]\n",
      " [-9.57667551e-01 -8.80506839e-01 -1.01290778e+00 -8.24972504e-01]\n",
      " [ 2.61937705e+00  1.63492340e+00 -6.94610988e-01 -1.33109369e+00]\n",
      " [ 1.34272379e-01 -5.45446714e-02 -4.08435889e-01 -6.09205052e-01]\n",
      " [-1.29299328e-01  1.33174003e-01 -7.26732683e-01 -4.44049718e-01]\n",
      " [ 1.79100883e+00  1.78509834e+00  4.44249100e-01  3.65744177e-01]\n",
      " [-1.29299328e-01 -5.42613225e-01  6.31138960e-01  1.18011176e-01]\n",
      " [ 2.84884783e-01  2.08261473e-01  1.77875951e+00  1.59641779e+00]\n",
      " [-6.94095844e-01 -6.17700695e-01  2.08267592e-02  1.31330154e-01]\n",
      " [ 6.99068895e-01  8.84048701e-01 -5.16481590e-01 -2.92213363e-01]\n",
      " [-1.37185166e+00 -1.36857539e+00 -1.08299148e+00 -1.04073996e+00]\n",
      " [ 1.34272379e-01  5.80865332e-02 -4.63918817e-01 -4.89334245e-01]\n",
      " [-6.18789642e-01 -8.80506839e-01 -5.80174007e-02 -3.77454826e-01]\n",
      " [-8.07055147e-01 -6.92788165e-01 -1.01819712e-01  3.80973046e-02]\n",
      " [ 7.74375097e-01  1.29702978e+00  4.70530486e-01  8.95839522e-01]\n",
      " [-1.10827996e+00 -7.67875634e-01 -1.27280149e+00 -8.03662139e-01]\n",
      " [ 2.28049914e+00  1.78509834e+00  1.42834102e+00  8.34572221e-01]\n",
      " [-1.93664818e+00 -1.44366286e+00 -2.04372217e+00 -1.25117982e+00]\n",
      " [-1.03297375e+00 -8.80506839e-01 -4.23036660e-01 -1.40377008e-01]\n",
      " [-1.22123926e+00 -1.03068178e+00 -1.10051240e+00 -8.40955279e-01]]\n"
     ]
    }
   ],
   "source": [
    "print(X_train)"
   ]
  },
  {
   "cell_type": "markdown",
   "metadata": {},
   "source": [
    "Training"
   ]
  },
  {
   "cell_type": "code",
   "execution_count": 72,
   "metadata": {},
   "outputs": [],
   "source": [
    "reg = LinearRegression()\n",
    "reg = reg.fit(X_train, Y_train)"
   ]
  },
  {
   "cell_type": "code",
   "execution_count": 73,
   "metadata": {},
   "outputs": [],
   "source": [
    "Y_pred = reg.predict(X_test)\n",
    "X_pred = reg.predict(X_train)"
   ]
  },
  {
   "cell_type": "code",
   "execution_count": null,
   "metadata": {},
   "outputs": [],
   "source": []
  },
  {
   "cell_type": "code",
   "execution_count": null,
   "metadata": {},
   "outputs": [],
   "source": []
  }
 ],
 "metadata": {
  "kernelspec": {
   "display_name": "Python 3",
   "language": "python",
   "name": "python3"
  },
  "language_info": {
   "codemirror_mode": {
    "name": "ipython",
    "version": 3
   },
   "file_extension": ".py",
   "mimetype": "text/x-python",
   "name": "python",
   "nbconvert_exporter": "python",
   "pygments_lexer": "ipython3",
   "version": "3.7.4"
  }
 },
 "nbformat": 4,
 "nbformat_minor": 2
}
